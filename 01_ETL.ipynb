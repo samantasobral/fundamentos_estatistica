{
 "cells": [
  {
   "cell_type": "markdown",
   "id": "3edc67d6",
   "metadata": {},
   "source": [
    "# PA - Estatística - Pós Graduação CDS\n",
    "\n",
    "### Preparação das bases de desenvolvimento e validação\n",
    "\n"
   ]
  },
  {
   "cell_type": "markdown",
   "id": "37ec8066",
   "metadata": {},
   "source": [
    "## Imports:"
   ]
  },
  {
   "cell_type": "code",
   "execution_count": 1,
   "id": "98839c86",
   "metadata": {},
   "outputs": [],
   "source": [
    "import pandas as pd\n",
    "import numpy as np\n",
    "import seaborn as sns\n",
    "import matplotlib.pyplot as plt\n",
    "from sklearn.model_selection import train_test_split\n",
    "from funcoes import formato_data, calcular_media_lat_lng\n"
   ]
  },
  {
   "cell_type": "markdown",
   "id": "ca837006",
   "metadata": {},
   "source": [
    "## Dataset:"
   ]
  },
  {
   "cell_type": "markdown",
   "id": "9abec46c",
   "metadata": {},
   "source": [
    "### Tratando a tabela orders:"
   ]
  },
  {
   "cell_type": "code",
   "execution_count": 2,
   "id": "6bc5fd0d",
   "metadata": {},
   "outputs": [],
   "source": [
    "#lendo o arquivo:\n",
    "orders = pd.read_csv('archive\\olist_orders_dataset.csv')\n",
    "\n",
    "#apenas order_status = delivered:\n",
    "orders = orders[orders['order_status'] == 'delivered']\n",
    "\n",
    "#selecionando as colunas:\n",
    "orders = orders[['order_id', 'customer_id', 'order_approved_at', \n",
    "                 'order_delivered_customer_date', 'order_estimated_delivery_date']]\n",
    "\n",
    "#excluindo as linhas nulas:\n",
    "orders = orders.dropna()\n",
    "\n",
    "#ajustando as colunas de data:\n",
    "colunas_para_converter = ['order_approved_at', \n",
    "                          'order_delivered_customer_date', \n",
    "                          'order_estimated_delivery_date']\n",
    "\n",
    "orders = formato_data(orders, colunas_para_converter)\n"
   ]
  },
  {
   "cell_type": "markdown",
   "id": "a63d0518",
   "metadata": {},
   "source": [
    "### Tratando a tabela order_items:"
   ]
  },
  {
   "cell_type": "code",
   "execution_count": 3,
   "id": "7975632a",
   "metadata": {},
   "outputs": [],
   "source": [
    "#lendo o arquivo\n",
    "order_items = pd.read_csv('archive\\olist_order_items_dataset.csv')\n",
    "\n",
    "#selecionando as colunas\n",
    "order_items = order_items[['order_id', 'seller_id', 'product_id']]"
   ]
  },
  {
   "cell_type": "markdown",
   "id": "57e01db7",
   "metadata": {},
   "source": [
    "### Tratando as tabelas customers, sellers e geolocation:"
   ]
  },
  {
   "cell_type": "code",
   "execution_count": 4,
   "id": "323cbf7a",
   "metadata": {},
   "outputs": [],
   "source": [
    "#lendo os arquivos\n",
    "customers = pd.read_csv('archive\\olist_customers_dataset.csv')\n",
    "sellers = pd.read_csv('archive\\olist_sellers_dataset.csv')\n",
    "geolocation = pd.read_csv('archive\\olist_geolocation_dataset.csv')\n",
    "\n",
    "#selecionando as colunas:\n",
    "customers = customers[['customer_id', 'customer_zip_code_prefix']]\n",
    "sellers = sellers[['seller_id', 'seller_zip_code_prefix']]\n",
    "geolocation = geolocation[['geolocation_zip_code_prefix', 'geolocation_lat', 'geolocation_lng']]"
   ]
  },
  {
   "cell_type": "code",
   "execution_count": 5,
   "id": "7edad383",
   "metadata": {},
   "outputs": [],
   "source": [
    "#junções:\n",
    "\n",
    "customers = customers.merge(geolocation, \n",
    "                left_on = 'customer_zip_code_prefix',\n",
    "                right_on = 'geolocation_zip_code_prefix',\n",
    "                how = 'left')\n",
    "\n",
    "sellers = sellers.merge(geolocation, \n",
    "                left_on = 'seller_zip_code_prefix',\n",
    "                right_on = 'geolocation_zip_code_prefix',\n",
    "                how = 'left')"
   ]
  },
  {
   "cell_type": "code",
   "execution_count": 6,
   "id": "3ae23886",
   "metadata": {},
   "outputs": [],
   "source": [
    "#Latitude média ('lat_media') e longitude média ('lng_media'):\n",
    "customers = calcular_media_lat_lng(customers, 'customer_zip_code_prefix', \n",
    "                                     'geolocation_lat', 'geolocation_lng', \n",
    "                                     'customer_lat_media', 'customer_lgn_media')\n",
    "\n",
    "sellers = calcular_media_lat_lng(sellers, 'seller_zip_code_prefix', \n",
    "                                     'geolocation_lat', 'geolocation_lng', \n",
    "                                     'seller_lat_media', 'seller_lgn_media')\n"
   ]
  },
  {
   "cell_type": "code",
   "execution_count": 7,
   "id": "5bd09aa3",
   "metadata": {},
   "outputs": [],
   "source": [
    "#selecionando as colunas:\n",
    "customers = customers[['customer_id','customer_lat_media', 'customer_lgn_media']]\n",
    "sellers = sellers[['seller_id','seller_lat_media', 'seller_lgn_media']]\n",
    "\n",
    "#excluindo linhas duplicadas:\n",
    "customers = customers.drop_duplicates()\n",
    "sellers = sellers.drop_duplicates()"
   ]
  },
  {
   "cell_type": "markdown",
   "id": "5cea1099",
   "metadata": {},
   "source": [
    "### Tratando a tabela product:"
   ]
  },
  {
   "cell_type": "code",
   "execution_count": 8,
   "id": "05d29839",
   "metadata": {},
   "outputs": [],
   "source": [
    "#lendo o arquivo\n",
    "product = pd.read_csv('archive\\olist_products_dataset.csv')\n",
    "\n",
    "#selecionando as colunas\n",
    "product = product[['product_id', 'product_category_name', \n",
    "                 'product_weight_g','product_length_cm', \n",
    "                 'product_height_cm', 'product_width_cm']]\n",
    "\n",
    "#criando a coluna de volume (cm³)\n",
    "product['product_volume_cm3'] = (product['product_height_cm']*\n",
    "                                 product['product_length_cm']*\n",
    "                                 product['product_width_cm'])"
   ]
  },
  {
   "cell_type": "markdown",
   "id": "fc98f1e7",
   "metadata": {},
   "source": [
    "### Fazendo as junções de orders, order_items, customers, sellers e products:"
   ]
  },
  {
   "cell_type": "code",
   "execution_count": 9,
   "id": "329c42c9",
   "metadata": {},
   "outputs": [],
   "source": [
    "df = orders.merge(order_items, on='order_id', how='left') \\\n",
    "           .merge(customers, on='customer_id', how='left') \\\n",
    "           .merge(sellers, on='seller_id', how='left') \\\n",
    "           .merge(product, on= 'product_id', how = 'left')\n",
    "\n",
    "#Excluindo linhas duplicadas e nulas:\n",
    "df = df.drop_duplicates()\n",
    "df.dropna(inplace = True)"
   ]
  },
  {
   "cell_type": "markdown",
   "id": "5a3b6a9c",
   "metadata": {},
   "source": [
    "### Criando novas colunas:"
   ]
  },
  {
   "cell_type": "code",
   "execution_count": 10,
   "id": "bf1553f8",
   "metadata": {},
   "outputs": [],
   "source": [
    "# Criando a coluna de distância euclidiana\n",
    "df['dist_degrees'] = np.sqrt(\n",
    "    (df['seller_lat_media'] - df['customer_lat_media'])**2 +\n",
    "    (df['seller_lgn_media'] - df['customer_lgn_media'])**2\n",
    ")"
   ]
  },
  {
   "cell_type": "code",
   "execution_count": 11,
   "id": "5752159b",
   "metadata": {},
   "outputs": [],
   "source": [
    "# Criando a coluna delta_time_dataset em dias, sendo a\n",
    "# diferença de tempo entre a aprovação do pedido e a data estimada de entrega ao cliente:\n",
    "\n",
    "df['delta_time_dataset'] = (df['order_estimated_delivery_date'] - df['order_approved_at']).dt.days"
   ]
  },
  {
   "cell_type": "code",
   "execution_count": 12,
   "id": "29cb8979",
   "metadata": {},
   "outputs": [],
   "source": [
    "# Criando a coluna delta_time_real em dias, sendo a\n",
    "# diferença de tempo entre a aprovação do pedido e a data real de entrega ao cliente:\n",
    "\n",
    "df['delta_time_real'] = (df['order_delivered_customer_date'] - df['order_approved_at']).dt.days \n"
   ]
  },
  {
   "cell_type": "code",
   "execution_count": 13,
   "id": "92086554",
   "metadata": {},
   "outputs": [],
   "source": [
    "# Criando a coluna error_model_dataset em dias, sendo a\n",
    "# diferença de tempo entre a data de entrega e a data estimada de entrega ao cliente:\n",
    "\n",
    "df['error_model_dataset'] = (df['order_delivered_customer_date'] - df['order_estimated_delivery_date']).dt.days"
   ]
  },
  {
   "cell_type": "markdown",
   "id": "17178b5e",
   "metadata": {},
   "source": [
    "### Selecionando as colunas:"
   ]
  },
  {
   "cell_type": "code",
   "execution_count": 14,
   "id": "d71f044d",
   "metadata": {},
   "outputs": [],
   "source": [
    "base_final = df[['product_category_name','product_weight_g', 'product_volume_cm3', \n",
    "                 'dist_degrees', 'order_approved_at','order_delivered_customer_date',\n",
    "                'delta_time_dataset', 'delta_time_real', 'error_model_dataset']]\n"
   ]
  },
  {
   "cell_type": "code",
   "execution_count": 15,
   "id": "f503cda3",
   "metadata": {},
   "outputs": [],
   "source": [
    "#incluindo colunas de volume em litros e peso em quilos:\n",
    "\n",
    "dados = base_final.copy() \n",
    "\n",
    "dados.loc[:, 'product_volume_l'] = dados['product_volume_cm3'] / 1000\n",
    "dados.loc[:, 'product_weight_kg'] = dados['product_weight_g'] / 1000"
   ]
  },
  {
   "cell_type": "markdown",
   "id": "c4c75ac9",
   "metadata": {},
   "source": [
    "### Dividindo em 70% e 30%:"
   ]
  },
  {
   "cell_type": "code",
   "execution_count": 16,
   "id": "b99cc900",
   "metadata": {},
   "outputs": [],
   "source": [
    "desenvolvimento, validacao = train_test_split(dados, test_size=0.3, random_state=42)\n"
   ]
  },
  {
   "cell_type": "markdown",
   "id": "a2a3efcc",
   "metadata": {},
   "source": [
    "### Salvando as bases:"
   ]
  },
  {
   "cell_type": "code",
   "execution_count": 17,
   "id": "3cea0adf",
   "metadata": {},
   "outputs": [],
   "source": [
    "dados.to_csv(\"base_completa.csv\")\n",
    "desenvolvimento.to_csv(\"base_desenvolvimento.csv\")\n",
    "validacao.to_csv(\"base_validacao.csv\")"
   ]
  }
 ],
 "metadata": {
  "kernelspec": {
   "display_name": "ds_em_producao",
   "language": "python",
   "name": "python3"
  },
  "language_info": {
   "codemirror_mode": {
    "name": "ipython",
    "version": 3
   },
   "file_extension": ".py",
   "mimetype": "text/x-python",
   "name": "python",
   "nbconvert_exporter": "python",
   "pygments_lexer": "ipython3",
   "version": "3.11.11"
  }
 },
 "nbformat": 4,
 "nbformat_minor": 5
}
